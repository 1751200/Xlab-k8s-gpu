{
 "cells": [
  {
   "cell_type": "code",
   "execution_count": 3,
   "metadata": {},
   "outputs": [],
   "source": [
    "import torch\n",
    "import time\n",
    "import matplotlib.pyplot as plt\n",
    "import numpy as np\n",
    "import cupy as cp\n",
    "# torch.cuda.device_count()\n",
    "# torch.cuda.get_device_name(0)\n",
    "def torch_gpu_test(size,times):\n",
    "    sumT = 0\n",
    "    for i in range(0,times):\n",
    "        a = torch.rand(size,size).cuda()\n",
    "        b = torch.rand(size,size).cuda()\n",
    "        start = time.clock()\n",
    "        c = torch.mm(a, b)\n",
    "        end = time.clock()\n",
    "        if i == 0:\n",
    "            continue\n",
    "        #print((end-start)*1000)\n",
    "        sumT += end-start\n",
    "    times-=1\n",
    "    avgT = ((sumT/times)*1000)\n",
    "    print(\"torch gpu avg time %f\"%avgT)\n",
    "    return avgT"
   ]
  },
  {
   "cell_type": "code",
   "execution_count": 4,
   "metadata": {},
   "outputs": [],
   "source": [
    "def numpy_test(shape,times):\n",
    "    sumT = 0\n",
    "    for i in range(0,times):\n",
    "        arr_cpu=np.random.rand(shape,shape)\n",
    "        start = time.clock()\n",
    "        np.einsum('ij, jk',arr_cpu,arr_cpu)\n",
    "        end = time.clock()\n",
    "        if i == 0:\n",
    "            continue\n",
    "        sumT += (end-start)\n",
    "        #print((end-start)*1000)\n",
    "    times-=1\n",
    "    avgT = ((sumT/times)*1000)\n",
    "    print(\"cupy avg time %f\"%avgT)\n",
    "    return avgT"
   ]
  },
  {
   "cell_type": "code",
   "execution_count": 5,
   "metadata": {},
   "outputs": [],
   "source": [
    "def cupy_test(shape,times):\n",
    "    sumT = 0\n",
    "    for i in range(0,times):\n",
    "        arr_gpu=cp.random.rand(shape,shape,dtype=cp.float)\n",
    "        start = time.clock()\n",
    "        cp.einsum('ij, jk',arr_gpu,arr_gpu)\n",
    "        end = time.clock()\n",
    "        if i == 0:\n",
    "            continue\n",
    "        sumT += (end-start)\n",
    "        #print((end-start)*1000)\n",
    "    times-=1\n",
    "    avgT = ((sumT/times)*1000)\n",
    "    print(\"cupy avg time %f\"%avgT)\n",
    "    return avgT"
   ]
  },
  {
   "cell_type": "code",
   "execution_count": 10,
   "metadata": {},
   "outputs": [],
   "source": [
    "def draw_time(timeDict):\n",
    "    sizeList = timeDict['size']\n",
    "    plt.plot(sizeList,timeDict['cupy'],marker='o',label='cupy')\n",
    "    plt.plot(sizeList,timeDict['pytorch-gpu'],marker='o',label='pytorch-gpu')\n",
    "    plt.plot(sizeList,timeDict['numpy'],marker='o',label='numpy')\n",
    "    plt.xlabel('matrix size') \n",
    "    plt.ylabel('cal time (ms)')\n",
    "    plt.legend()\n",
    "    plt.show()"
   ]
  },
  {
   "cell_type": "code",
   "execution_count": 7,
   "metadata": {},
   "outputs": [],
   "source": [
    "def statistics_time():\n",
    "    times = 2\n",
    "    timeDict = {}\n",
    "    timeDict['cupy'] = []\n",
    "    timeDict['pytorch-gpu'] = []\n",
    "    timeDict['numpy'] = [] \n",
    "    timeDict['size'] = []\n",
    "    for n in range(0,13):\n",
    "        size = 2**n\n",
    "        print(size)\n",
    "        cT = cupy_test(size,times)\n",
    "        tT = torch_gpu_test(size,times)\n",
    "        nT = numpy_test(size,times)\n",
    "        timeDict['cupy'] .append(cT)\n",
    "        timeDict['pytorch-gpu'].append(tT)\n",
    "        timeDict['numpy'].append(nT)\n",
    "        timeDict['size'].append(size)\n",
    "    return timeDict"
   ]
  },
  {
   "cell_type": "code",
   "execution_count": 8,
   "metadata": {},
   "outputs": [
    {
     "name": "stdout",
     "output_type": "stream",
     "text": [
      "1\n"
     ]
    },
    {
     "name": "stderr",
     "output_type": "stream",
     "text": [
      "C:\\Users\\Vodka\\Anaconda3\\lib\\site-packages\\ipykernel_launcher.py:5: DeprecationWarning: time.clock has been deprecated in Python 3.3 and will be removed from Python 3.8: use time.perf_counter or time.process_time instead\n",
      "  \"\"\"\n",
      "C:\\Users\\Vodka\\Anaconda3\\lib\\site-packages\\ipykernel_launcher.py:7: DeprecationWarning: time.clock has been deprecated in Python 3.3 and will be removed from Python 3.8: use time.perf_counter or time.process_time instead\n",
      "  import sys\n"
     ]
    },
    {
     "name": "stdout",
     "output_type": "stream",
     "text": [
      "cupy avg time 0.182300\n"
     ]
    },
    {
     "name": "stderr",
     "output_type": "stream",
     "text": [
      "C:\\Users\\Vodka\\Anaconda3\\lib\\site-packages\\ipykernel_launcher.py:13: DeprecationWarning: time.clock has been deprecated in Python 3.3 and will be removed from Python 3.8: use time.perf_counter or time.process_time instead\n",
      "  del sys.path[0]\n",
      "C:\\Users\\Vodka\\Anaconda3\\lib\\site-packages\\ipykernel_launcher.py:15: DeprecationWarning: time.clock has been deprecated in Python 3.3 and will be removed from Python 3.8: use time.perf_counter or time.process_time instead\n",
      "  from ipykernel import kernelapp as app\n"
     ]
    },
    {
     "name": "stdout",
     "output_type": "stream",
     "text": [
      "torch gpu avg time 0.681300\n",
      "cupy avg time 0.139800\n",
      "2\n",
      "cupy avg time 0.208700\n",
      "torch gpu avg time 0.337700\n",
      "cupy avg time 0.017800\n",
      "4\n",
      "cupy avg time 0.631400\n",
      "torch gpu avg time 0.160600\n",
      "cupy avg time 0.013900\n",
      "8\n",
      "cupy avg time 0.370600\n",
      "torch gpu avg time 0.128100\n",
      "cupy avg time 0.013800\n",
      "16\n",
      "cupy avg time 1.407100\n",
      "torch gpu avg time 0.142800\n",
      "cupy avg time 0.022900\n",
      "32\n",
      "cupy avg time 0.314600\n",
      "torch gpu avg time 0.120500\n",
      "cupy avg time 0.395100\n",
      "64\n",
      "cupy avg time 0.441800\n",
      "torch gpu avg time 0.188000\n",
      "cupy avg time 0.214300\n",
      "128\n",
      "cupy avg time 0.425700\n",
      "torch gpu avg time 0.104000\n",
      "cupy avg time 1.386300\n",
      "256\n",
      "cupy avg time 0.730600\n",
      "torch gpu avg time 0.572800\n",
      "cupy avg time 14.490000\n",
      "512\n",
      "cupy avg time 0.625800\n",
      "torch gpu avg time 0.116400\n",
      "cupy avg time 62.774100\n",
      "1024\n",
      "cupy avg time 0.214200\n",
      "torch gpu avg time 0.077000\n",
      "cupy avg time 815.659800\n",
      "2048\n",
      "cupy avg time 0.239600\n",
      "torch gpu avg time 0.103100\n",
      "cupy avg time 6112.161800\n",
      "4096\n",
      "cupy avg time 1.365700\n",
      "torch gpu avg time 0.128000\n",
      "cupy avg time 53179.451900\n"
     ]
    }
   ],
   "source": [
    "torch.cuda.set_device(0)  \n",
    "timeDict = statistics_time()"
   ]
  },
  {
   "cell_type": "code",
   "execution_count": 11,
   "metadata": {},
   "outputs": [
    {
     "data": {
      "image/png": "[encoded data removed]",
      "text/plain": [
       "<Figure size 432x288 with 1 Axes>"
      ]
     },
     "metadata": {
      "needs_background": "light"
     },
     "output_type": "display_data"
    }
   ],
   "source": [
    "draw_time(timeDict)"
   ]
  },
  {
   "cell_type": "code",
   "execution_count": null,
   "metadata": {},
   "outputs": [],
   "source": []
  }
 ],
 "metadata": {
  "kernelspec": {
   "display_name": "Python 3",
   "language": "python",
   "name": "python3"
  },
  "language_info": {
   "codemirror_mode": {
    "name": "ipython",
    "version": 3
   },
   "file_extension": ".py",
   "mimetype": "text/x-python",
   "name": "python",
   "nbconvert_exporter": "python",
   "pygments_lexer": "ipython3",
   "version": "3.7.4"
  }
 },
 "nbformat": 4,
 "nbformat_minor": 2
}
